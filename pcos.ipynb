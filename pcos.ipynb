{
  "cells": [
    {
      "cell_type": "code",
      "execution_count": 1,
      "metadata": {
        "id": "lJYoEQCbhP6b"
      },
      "outputs": [
        {
          "ename": "ModuleNotFoundError",
          "evalue": "No module named 'pandas'",
          "output_type": "error",
          "traceback": [
            "\u001b[1;31m---------------------------------------------------------------------------\u001b[0m",
            "\u001b[1;31mModuleNotFoundError\u001b[0m                       Traceback (most recent call last)",
            "Cell \u001b[1;32mIn[1], line 2\u001b[0m\n\u001b[0;32m      1\u001b[0m \u001b[38;5;66;03m# Importing required libraries\u001b[39;00m\n\u001b[1;32m----> 2\u001b[0m \u001b[38;5;28;01mimport\u001b[39;00m \u001b[38;5;21;01mpandas\u001b[39;00m \u001b[38;5;28;01mas\u001b[39;00m \u001b[38;5;21;01mpd\u001b[39;00m\n\u001b[0;32m      3\u001b[0m \u001b[38;5;28;01mimport\u001b[39;00m \u001b[38;5;21;01mnumpy\u001b[39;00m \u001b[38;5;28;01mas\u001b[39;00m \u001b[38;5;21;01mnp\u001b[39;00m\n\u001b[0;32m      4\u001b[0m \u001b[38;5;28;01mimport\u001b[39;00m \u001b[38;5;21;01mseaborn\u001b[39;00m \u001b[38;5;28;01mas\u001b[39;00m \u001b[38;5;21;01msns\u001b[39;00m\n",
            "\u001b[1;31mModuleNotFoundError\u001b[0m: No module named 'pandas'"
          ]
        }
      ],
      "source": [
        "# Importing required libraries\n",
        "import pandas as pd\n",
        "import numpy as np\n",
        "import seaborn as sns\n",
        "import matplotlib.pyplot as plt\n",
        "from sklearn.tree import DecisionTreeClassifier\n",
        "from sklearn.model_selection import train_test_split\n",
        "from sklearn.metrics import classification_report, confusion_matrix\n",
        "\n"
      ]
    },
    {
      "cell_type": "code",
      "execution_count": null,
      "metadata": {
        "id": "YGR6E4qelXg8"
      },
      "outputs": [
        {
          "ename": "NameError",
          "evalue": "name 'pd' is not defined",
          "output_type": "error",
          "traceback": [
            "\u001b[1;31m---------------------------------------------------------------------------\u001b[0m",
            "\u001b[1;31mNameError\u001b[0m                                 Traceback (most recent call last)",
            "Cell \u001b[1;32mIn[10], line 2\u001b[0m\n\u001b[0;32m      1\u001b[0m \u001b[38;5;66;03m# Reading the data from the CSV file\u001b[39;00m\n\u001b[1;32m----> 2\u001b[0m df \u001b[38;5;241m=\u001b[39m \u001b[43mpd\u001b[49m\u001b[38;5;241m.\u001b[39mread_csv(\u001b[38;5;124m'\u001b[39m\u001b[38;5;124mfinal_data.csv\u001b[39m\u001b[38;5;124m'\u001b[39m)\n\u001b[0;32m      4\u001b[0m \u001b[38;5;66;03m# Preprocessing the data\u001b[39;00m\n\u001b[0;32m      5\u001b[0m df \u001b[38;5;241m=\u001b[39m df\u001b[38;5;241m.\u001b[39mdropna()  \u001b[38;5;66;03m# Dropping missing values\u001b[39;00m\n",
            "\u001b[1;31mNameError\u001b[0m: name 'pd' is not defined"
          ]
        }
      ],
      "source": [
        "# Reading the data from the CSV file\n",
        "df = pd.read_csv('final_data.csv')\n",
        "\n",
        "# Preprocessing the data\n",
        "df = df.dropna()  # Dropping missing values\n",
        "# df = pd.get_dummies(df, columns=['PeriodLength','Overweight',\t'lossweightgain/weightloss',\t'irregularormissedperiods',\t'Acneorskintags',\t\n",
        "                                #  'hairloss',\t'Darkpatches'\t,'moreMoodSwings'\t,'exerciseperweek',\t'eatoutsideperweek',\t'cannedfoodoften'])  # One-hot encoding categorical features\n",
        "X = df.drop(['PCOS'], axis=1)\n",
        "y = df['PCOS']\n",
        "\n",
        "# Visualizing the data\n",
        "# sns.pairplot(df, hue='PCOS', diag_kind='hist')\n",
        "# plt.show()\n",
        "\n",
        "\n"
      ]
    },
    {
      "cell_type": "code",
      "execution_count": null,
      "metadata": {
        "colab": {
          "base_uri": "https://localhost:8080/"
        },
        "id": "YN6RyNi8nS49",
        "outputId": "df24db91-4397-428f-f434-f9f69f48dd4a"
      },
      "outputs": [
        {
          "name": "stdout",
          "output_type": "stream",
          "text": [
            "     PeriodLength  Overweight  lossweightgain/weightloss  \\\n",
            "0               5           0                          0   \n",
            "1               5           0                          1   \n",
            "2               5           1                          1   \n",
            "3               5           0                          0   \n",
            "4               5           0                          0   \n",
            "..            ...         ...                        ...   \n",
            "262             7           0                          0   \n",
            "263             7           0                          0   \n",
            "264             5           0                          0   \n",
            "265             7           0                          0   \n",
            "266             5           0                          0   \n",
            "\n",
            "     irregularormissedperiods  Acneorskintags  hairloss  Darkpatches  \\\n",
            "0                           1               1         1            0   \n",
            "1                           0               0         1            0   \n",
            "2                           1               1         1            1   \n",
            "3                           0               0         0            0   \n",
            "4                           1               1         0            1   \n",
            "..                        ...             ...       ...          ...   \n",
            "262                         0               0         0            0   \n",
            "263                         0               1         1            1   \n",
            "264                         0               0         0            0   \n",
            "265                         0               1         1            0   \n",
            "266                         0               1         1            0   \n",
            "\n",
            "     moreMoodSwings  exerciseperweek  eatoutsideperweek  cannedfoodoften  \n",
            "0                 0                0                  4                0  \n",
            "1                 1                1                  1                0  \n",
            "2                 1                1                  4                1  \n",
            "3                 0                5                  1                0  \n",
            "4                 1                0                  4                0  \n",
            "..              ...              ...                ...              ...  \n",
            "262               0                6                  1                0  \n",
            "263               0                1                  6                0  \n",
            "264               0                2                  3                0  \n",
            "265               0                5                  4                1  \n",
            "266               0                3                  1                0  \n",
            "\n",
            "[267 rows x 11 columns]\n"
          ]
        }
      ],
      "source": [
        "print(X)"
      ]
    },
    {
      "cell_type": "code",
      "execution_count": null,
      "metadata": {
        "colab": {
          "base_uri": "https://localhost:8080/"
        },
        "id": "NXI1r0E9lY-w",
        "outputId": "8a22ed83-f464-4229-b6e9-e0afba66bc4e"
      },
      "outputs": [
        {
          "name": "stdout",
          "output_type": "stream",
          "text": [
            "              precision    recall  f1-score   support\n",
            "\n",
            "          No       0.89      0.87      0.88        63\n",
            "         Yes       0.58      0.61      0.59        18\n",
            "\n",
            "    accuracy                           0.81        81\n",
            "   macro avg       0.73      0.74      0.74        81\n",
            "weighted avg       0.82      0.81      0.82        81\n",
            "\n",
            "[[55  8]\n",
            " [ 7 11]]\n"
          ]
        }
      ],
      "source": [
        "# Splitting the data into training and testing sets\n",
        "X_train, X_test, y_train, y_test = train_test_split(X, y, test_size=0.3, random_state=42)\n",
        "\n",
        "# Training the decision tree classifier model\n",
        "dtc = DecisionTreeClassifier()\n",
        "dtc.fit(X_train, y_train)\n",
        "\n",
        "# Evaluating the performance of the model\n",
        "y_pred = dtc.predict(X_test)\n",
        "print(classification_report(y_test, y_pred))\n",
        "print(confusion_matrix(y_test, y_pred))"
      ]
    },
    {
      "cell_type": "code",
      "execution_count": null,
      "metadata": {
        "id": "yxzR9l0AlaR8"
      },
      "outputs": [],
      "source": [
        "import pickle\n",
        "\n",
        "filename = 'model.pkl'\n",
        "with open(filename, 'wb') as file:\n",
        "    pickle.dump(dtc, file)"
      ]
    },
    {
      "cell_type": "code",
      "execution_count": null,
      "metadata": {
        "id": "hNZWMvORlbwY"
      },
      "outputs": [],
      "source": [
        "filename = 'model.pkl'\n",
        "with open(filename, 'rb') as file:\n",
        "    model = pickle.load(file)"
      ]
    },
    {
      "cell_type": "code",
      "execution_count": null,
      "metadata": {
        "id": "N3Y3iACgmQfR"
      },
      "outputs": [],
      "source": [
        "# Extract the feature importances\n",
        "importances = model.feature_importances_\n",
        "\n",
        "# Get the indices of the features sorted by importance\n",
        "sorted_idx = importances.argsort()\n",
        "\n",
        "# Get the feature names in the order they were used\n",
        "feature_names = X.columns[sorted_idx]"
      ]
    },
    {
      "cell_type": "code",
      "execution_count": null,
      "metadata": {
        "colab": {
          "base_uri": "https://localhost:8080/"
        },
        "id": "zES4n65zmuGN",
        "outputId": "16e2f270-f690-443c-e0ea-547158b7b0b8"
      },
      "outputs": [
        {
          "name": "stdout",
          "output_type": "stream",
          "text": [
            "Index(['hairloss', 'moreMoodSwings', 'Acneorskintags', 'Darkpatches',\n",
            "       'lossweightgain/weightloss', 'cannedfoodoften',\n",
            "       'irregularormissedperiods', 'exerciseperweek', 'eatoutsideperweek',\n",
            "       'PeriodLength', 'Overweight'],\n",
            "      dtype='object')\n"
          ]
        }
      ],
      "source": [
        "print(feature_names)"
      ]
    },
    {
      "cell_type": "code",
      "execution_count": null,
      "metadata": {
        "id": "EtUa5jMpld8t"
      },
      "outputs": [],
      "source": [
        "new_data = [[5,\t0,\t0,\t1,\t1,\t1,\t0,\t0,\t0,\t4,\t0]]\n",
        "new_data2 = \n",
        "# Apply the same preprocessing steps used to train the model\n",
        "new_df = pd.DataFrame(new_data, feature_names) \n",
        "                                  # One-hot encoding categorical features\n",
        "\n",
        "\n",
        "\n"
      ]
    },
    {
      "cell_type": "code",
      "execution_count": null,
      "metadata": {
        "colab": {
          "base_uri": "https://localhost:8080/"
        },
        "id": "fdPxahSPlfHi",
        "outputId": "1be00d90-8c5d-4ae2-d1a2-4573bb57501c"
      },
      "outputs": [
        {
          "name": "stdout",
          "output_type": "stream",
          "text": [
            "['No' 'No' 'No' 'No' 'No' 'No' 'No' 'No' 'No' 'No' 'No']\n"
          ]
        },
        {
          "name": "stderr",
          "output_type": "stream",
          "text": [
            "/usr/local/lib/python3.9/dist-packages/sklearn/base.py:420: UserWarning: X does not have valid feature names, but DecisionTreeClassifier was fitted with feature names\n",
            "  warnings.warn(\n"
          ]
        }
      ],
      "source": [
        "\n",
        "# Make predictions using the loaded model\n",
        "predictions = model.predict(new_df)\n",
        "print(predictions)"
      ]
    },
    {
      "cell_type": "code",
      "execution_count": null,
      "metadata": {
        "id": "cxNYDNbPl90E"
      },
      "outputs": [],
      "source": []
    }
  ],
  "metadata": {
    "colab": {
      "provenance": []
    },
    "kernelspec": {
      "display_name": "Python 3.9.16 ('newenv': venv)",
      "language": "python",
      "name": "python3"
    },
    "language_info": {
      "codemirror_mode": {
        "name": "ipython",
        "version": 3
      },
      "file_extension": ".py",
      "mimetype": "text/x-python",
      "name": "python",
      "nbconvert_exporter": "python",
      "pygments_lexer": "ipython3",
      "version": "3.9.16"
    },
    "vscode": {
      "interpreter": {
        "hash": "3764f02f4af380d166076c7a52f149d804c8b580ba42e49e0fe3bc4f33324379"
      }
    }
  },
  "nbformat": 4,
  "nbformat_minor": 0
}
